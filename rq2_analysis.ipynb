{
 "cells": [
  {
   "cell_type": "code",
   "id": "initial_id",
   "metadata": {
    "collapsed": true,
    "ExecuteTime": {
     "end_time": "2025-03-25T15:26:55.027755Z",
     "start_time": "2025-03-25T15:26:52.978479Z"
    }
   },
   "source": [
    "import pandas as pd\n",
    "import numpy as np\n",
    "import matplotlib.pyplot as plt\n",
    "import seaborn as sns\n",
    "import torch.nn as nn\n",
    "import torch.optim as optim\n",
    "from sklearn.metrics import accuracy_score, confusion_matrix\n",
    "# import the transformers library\n",
    "from transformers import AutoTokenizer, AutoModelForMaskedLM\n",
    "import torch\n",
    "from sklearn.model_selection import train_test_split\n",
    "import os"
   ],
   "outputs": [
    {
     "name": "stderr",
     "output_type": "stream",
     "text": [
      "/home/drixs2050/anaconda3/envs/microservice-analysis/lib/python3.9/site-packages/tqdm/auto.py:21: TqdmWarning: IProgress not found. Please update jupyter and ipywidgets. See https://ipywidgets.readthedocs.io/en/stable/user_install.html\n",
      "  from .autonotebook import tqdm as notebook_tqdm\n"
     ]
    }
   ],
   "execution_count": 1
  },
  {
   "metadata": {
    "ExecuteTime": {
     "end_time": "2025-03-25T15:26:55.069369Z",
     "start_time": "2025-03-25T15:26:55.033721Z"
    }
   },
   "cell_type": "code",
   "source": [
    "# read csv data/processed/bug_data.csv\n",
    "data = pd.read_csv('data/processed/bug_data.csv')"
   ],
   "id": "a857bf0a4951d0fd",
   "outputs": [],
   "execution_count": 2
  },
  {
   "metadata": {
    "ExecuteTime": {
     "end_time": "2025-03-25T15:26:55.122545Z",
     "start_time": "2025-03-25T15:26:55.119129Z"
    }
   },
   "cell_type": "code",
   "source": "data.columns",
   "id": "baa9b82be2d76336",
   "outputs": [
    {
     "data": {
      "text/plain": [
       "Index(['repo_name', 'issue_number', 'issue_title', 'issue_body',\n",
       "       'issue_created_at', 'issue_closed_at', 'issue_comments_count',\n",
       "       'issue_url', 'pr_number', 'pr_merged_at', 'pr_url',\n",
       "       'config_files_changed', 'app_code_files_changed', 'other_files_changed',\n",
       "       'total_files_changed', 'lines_added', 'lines_deleted',\n",
       "       'config_files_lines_changed', 'app_code_files_lines_changed',\n",
       "       'resolution_time_hours', 'labels', 'has_config_changes',\n",
       "       'has_code_changes', 'bug_severity', 'bug_type', 'changed_files',\n",
       "       'services_affected', 'is_cross_service_bug'],\n",
       "      dtype='object')"
      ]
     },
     "execution_count": 3,
     "metadata": {},
     "output_type": "execute_result"
    }
   ],
   "execution_count": 3
  },
  {
   "metadata": {
    "ExecuteTime": {
     "end_time": "2025-03-25T15:26:55.194642Z",
     "start_time": "2025-03-25T15:26:55.185117Z"
    }
   },
   "cell_type": "code",
   "source": "data.head(10)",
   "id": "59f48b133fca034b",
   "outputs": [
    {
     "data": {
      "text/plain": [
       "                                         repo_name  issue_number  \\\n",
       "0           GoogleCloudPlatform/microservices-demo          2873   \n",
       "1           GoogleCloudPlatform/microservices-demo          2873   \n",
       "2           GoogleCloudPlatform/microservices-demo          2872   \n",
       "3     aws-samples/aws-microservices-deploy-options           230   \n",
       "4           GoogleCloudPlatform/microservices-demo          2688   \n",
       "5           GoogleCloudPlatform/microservices-demo          2677   \n",
       "6     aws-samples/aws-microservices-deploy-options           146   \n",
       "7  spring-petclinic/spring-petclinic-microservices           246   \n",
       "8  spring-petclinic/spring-petclinic-microservices           242   \n",
       "9     aws-samples/aws-microservices-deploy-options            53   \n",
       "\n",
       "                                         issue_title  \\\n",
       "0  secCompProfile without securityContext enabled...   \n",
       "1  secCompProfile without securityContext enabled...   \n",
       "2  securityContext opt-in not working for payment...   \n",
       "3  Health checks are failing Fargate deployment p...   \n",
       "4                              pods crash on aarch64   \n",
       "5  GKE v1.29.7-gke.1174000: rpc error: code = Una...   \n",
       "6                Lambda functions are failing on AWS   \n",
       "7                Docker build with the --load option   \n",
       "8  Support for Docker and Podman build on mac sil...   \n",
       "9  ECS cluster creation failed using CloudFormati...   \n",
       "\n",
       "                                          issue_body  \\\n",
       "0  ### Describe the bug  when .Values.securityCon...   \n",
       "1  ### Describe the bug  when .Values.securityCon...   \n",
       "2  ### Describe the bug  when setting .Values.sec...   \n",
       "3  https://github.com/aws-samples/aws-microservic...   \n",
       "4  ### Describe the bug  <!-- A clear and concise...   \n",
       "5  ### Describe the bug  On GKE version `v1.29.7-...   \n",
       "6  Invoking the Lambda function on AWS is giving ...   \n",
       "7  Fix Docker build by adding the --load options ...   \n",
       "8  This makes it possible to run the container bu...   \n",
       "9  Creating an ECS cluster using CloudFormation g...   \n",
       "\n",
       "            issue_created_at            issue_closed_at  issue_comments_count  \\\n",
       "0  2025-01-20T20:09:02+00:00  2025-01-29T22:07:54+00:00                     0   \n",
       "1  2025-01-20T20:09:02+00:00  2025-01-29T22:07:54+00:00                     0   \n",
       "2  2025-01-20T20:06:25+00:00  2025-01-29T22:07:54+00:00                     0   \n",
       "3  2018-04-14T02:11:47+00:00  2018-04-16T04:04:28+00:00                     5   \n",
       "4  2024-08-22T02:54:08+00:00  2024-08-22T19:01:52+00:00                     3   \n",
       "5  2024-08-13T19:53:42+00:00  2024-08-14T21:36:31+00:00                     2   \n",
       "6  2018-03-30T21:14:38+00:00  2018-03-31T00:10:05+00:00                     1   \n",
       "7  2023-12-22T18:57:50+00:00  2023-12-23T14:50:01+00:00                     0   \n",
       "8  2023-12-08T11:12:00+00:00  2023-12-21T07:54:56+00:00                     4   \n",
       "9  2018-03-08T21:06:14+00:00  2018-03-09T18:31:18+00:00                     4   \n",
       "\n",
       "                                           issue_url  pr_number  \\\n",
       "0  https://github.com/GoogleCloudPlatform/microse...       2874   \n",
       "1  https://github.com/GoogleCloudPlatform/microse...       2874   \n",
       "2  https://github.com/GoogleCloudPlatform/microse...       2874   \n",
       "3  https://github.com/aws-samples/aws-microservic...        244   \n",
       "4  https://github.com/GoogleCloudPlatform/microse...       2584   \n",
       "5  https://github.com/GoogleCloudPlatform/microse...       2429   \n",
       "6  https://github.com/aws-samples/aws-microservic...        152   \n",
       "7  https://github.com/spring-petclinic/spring-pet...        246   \n",
       "8  https://github.com/spring-petclinic/spring-pet...        242   \n",
       "9  https://github.com/aws-samples/aws-microservic...         61   \n",
       "\n",
       "                pr_merged_at  ... app_code_files_lines_changed  \\\n",
       "0  2025-01-29T22:07:53+00:00  ...                            0   \n",
       "1  2025-01-29T22:07:53+00:00  ...                            0   \n",
       "2  2025-01-29T22:07:53+00:00  ...                            0   \n",
       "3  2018-04-16T04:03:48+00:00  ...                            0   \n",
       "4  2024-06-10T11:33:19+00:00  ...                            0   \n",
       "5  2024-03-18T01:50:38+00:00  ...                            0   \n",
       "6  2018-03-31T00:10:05+00:00  ...                            0   \n",
       "7  2023-12-23T14:50:01+00:00  ...                            0   \n",
       "8  2023-12-21T07:54:56+00:00  ...                          117   \n",
       "9  2018-03-09T18:06:57+00:00  ...                            0   \n",
       "\n",
       "   resolution_time_hours                  labels  has_config_changes  \\\n",
       "0             217.980833  type: bug;priority: p2                True   \n",
       "1             217.980833  type: bug;priority: p2                True   \n",
       "2             218.024444  type: bug;priority: p2                True   \n",
       "3              49.866944                     NaN                True   \n",
       "4           -1743.346944  type: bug;priority: p3                True   \n",
       "5           -3570.051111                     NaN                True   \n",
       "6               2.924167                  lambda                True   \n",
       "7              19.869722                     bug                True   \n",
       "8             308.715556                     bug                True   \n",
       "9              21.011944                     NaN                True   \n",
       "\n",
       "   has_code_changes  bug_severity       bug_type  \\\n",
       "0             False        normal  configuration   \n",
       "1             False        normal  configuration   \n",
       "2             False        normal       security   \n",
       "3             False        normal       security   \n",
       "4             False      critical             ui   \n",
       "5             False      critical  configuration   \n",
       "6             False        normal       database   \n",
       "7             False        normal             ui   \n",
       "8              True        normal             ui   \n",
       "9             False        normal  configuration   \n",
       "\n",
       "                                       changed_files  \\\n",
       "0  [{\"filename\": \"helm-chart/templates/adservice....   \n",
       "1  [{\"filename\": \"helm-chart/templates/adservice....   \n",
       "2  [{\"filename\": \"helm-chart/templates/adservice....   \n",
       "3  [{\"filename\": \"apps/ecs/deployment/webapp.yaml...   \n",
       "4  [{\"filename\": \"src/adservice/build.gradle\", \"l...   \n",
       "5  [{\"filename\": \"src/currencyservice/package-loc...   \n",
       "6  [{\"filename\": \"services/greeting/pom.xml\", \"li...   \n",
       "7  [{\"filename\": \"pom.xml\", \"lines_added\": 1, \"li...   \n",
       "8  [{\"filename\": \".mvn/wrapper/MavenWrapperDownlo...   \n",
       "9  [{\"filename\": \"apps/ecs/ec2/templates/master.y...   \n",
       "\n",
       "                                   services_affected  is_cross_service_bug  \n",
       "0  templates;templates;templates;templates;templa...                 False  \n",
       "1  templates;templates;templates;templates;templa...                 False  \n",
       "2  templates;templates;templates;templates;templa...                 False  \n",
       "3                                               apps                 False  \n",
       "4                                        src;src;src                 False  \n",
       "5                                    src;src;src;src                 False  \n",
       "6                services;services;services;services                 False  \n",
       "7                                                NaN                 False  \n",
       "8  .mvn;.mvn;.mvn;spring-petclinic-admin-server;s...                  True  \n",
       "9                                          apps;apps                 False  \n",
       "\n",
       "[10 rows x 28 columns]"
      ],
      "text/html": [
       "<div>\n",
       "<style scoped>\n",
       "    .dataframe tbody tr th:only-of-type {\n",
       "        vertical-align: middle;\n",
       "    }\n",
       "\n",
       "    .dataframe tbody tr th {\n",
       "        vertical-align: top;\n",
       "    }\n",
       "\n",
       "    .dataframe thead th {\n",
       "        text-align: right;\n",
       "    }\n",
       "</style>\n",
       "<table border=\"1\" class=\"dataframe\">\n",
       "  <thead>\n",
       "    <tr style=\"text-align: right;\">\n",
       "      <th></th>\n",
       "      <th>repo_name</th>\n",
       "      <th>issue_number</th>\n",
       "      <th>issue_title</th>\n",
       "      <th>issue_body</th>\n",
       "      <th>issue_created_at</th>\n",
       "      <th>issue_closed_at</th>\n",
       "      <th>issue_comments_count</th>\n",
       "      <th>issue_url</th>\n",
       "      <th>pr_number</th>\n",
       "      <th>pr_merged_at</th>\n",
       "      <th>...</th>\n",
       "      <th>app_code_files_lines_changed</th>\n",
       "      <th>resolution_time_hours</th>\n",
       "      <th>labels</th>\n",
       "      <th>has_config_changes</th>\n",
       "      <th>has_code_changes</th>\n",
       "      <th>bug_severity</th>\n",
       "      <th>bug_type</th>\n",
       "      <th>changed_files</th>\n",
       "      <th>services_affected</th>\n",
       "      <th>is_cross_service_bug</th>\n",
       "    </tr>\n",
       "  </thead>\n",
       "  <tbody>\n",
       "    <tr>\n",
       "      <th>0</th>\n",
       "      <td>GoogleCloudPlatform/microservices-demo</td>\n",
       "      <td>2873</td>\n",
       "      <td>secCompProfile without securityContext enabled...</td>\n",
       "      <td>### Describe the bug  when .Values.securityCon...</td>\n",
       "      <td>2025-01-20T20:09:02+00:00</td>\n",
       "      <td>2025-01-29T22:07:54+00:00</td>\n",
       "      <td>0</td>\n",
       "      <td>https://github.com/GoogleCloudPlatform/microse...</td>\n",
       "      <td>2874</td>\n",
       "      <td>2025-01-29T22:07:53+00:00</td>\n",
       "      <td>...</td>\n",
       "      <td>0</td>\n",
       "      <td>217.980833</td>\n",
       "      <td>type: bug;priority: p2</td>\n",
       "      <td>True</td>\n",
       "      <td>False</td>\n",
       "      <td>normal</td>\n",
       "      <td>configuration</td>\n",
       "      <td>[{\"filename\": \"helm-chart/templates/adservice....</td>\n",
       "      <td>templates;templates;templates;templates;templa...</td>\n",
       "      <td>False</td>\n",
       "    </tr>\n",
       "    <tr>\n",
       "      <th>1</th>\n",
       "      <td>GoogleCloudPlatform/microservices-demo</td>\n",
       "      <td>2873</td>\n",
       "      <td>secCompProfile without securityContext enabled...</td>\n",
       "      <td>### Describe the bug  when .Values.securityCon...</td>\n",
       "      <td>2025-01-20T20:09:02+00:00</td>\n",
       "      <td>2025-01-29T22:07:54+00:00</td>\n",
       "      <td>0</td>\n",
       "      <td>https://github.com/GoogleCloudPlatform/microse...</td>\n",
       "      <td>2874</td>\n",
       "      <td>2025-01-29T22:07:53+00:00</td>\n",
       "      <td>...</td>\n",
       "      <td>0</td>\n",
       "      <td>217.980833</td>\n",
       "      <td>type: bug;priority: p2</td>\n",
       "      <td>True</td>\n",
       "      <td>False</td>\n",
       "      <td>normal</td>\n",
       "      <td>configuration</td>\n",
       "      <td>[{\"filename\": \"helm-chart/templates/adservice....</td>\n",
       "      <td>templates;templates;templates;templates;templa...</td>\n",
       "      <td>False</td>\n",
       "    </tr>\n",
       "    <tr>\n",
       "      <th>2</th>\n",
       "      <td>GoogleCloudPlatform/microservices-demo</td>\n",
       "      <td>2872</td>\n",
       "      <td>securityContext opt-in not working for payment...</td>\n",
       "      <td>### Describe the bug  when setting .Values.sec...</td>\n",
       "      <td>2025-01-20T20:06:25+00:00</td>\n",
       "      <td>2025-01-29T22:07:54+00:00</td>\n",
       "      <td>0</td>\n",
       "      <td>https://github.com/GoogleCloudPlatform/microse...</td>\n",
       "      <td>2874</td>\n",
       "      <td>2025-01-29T22:07:53+00:00</td>\n",
       "      <td>...</td>\n",
       "      <td>0</td>\n",
       "      <td>218.024444</td>\n",
       "      <td>type: bug;priority: p2</td>\n",
       "      <td>True</td>\n",
       "      <td>False</td>\n",
       "      <td>normal</td>\n",
       "      <td>security</td>\n",
       "      <td>[{\"filename\": \"helm-chart/templates/adservice....</td>\n",
       "      <td>templates;templates;templates;templates;templa...</td>\n",
       "      <td>False</td>\n",
       "    </tr>\n",
       "    <tr>\n",
       "      <th>3</th>\n",
       "      <td>aws-samples/aws-microservices-deploy-options</td>\n",
       "      <td>230</td>\n",
       "      <td>Health checks are failing Fargate deployment p...</td>\n",
       "      <td>https://github.com/aws-samples/aws-microservic...</td>\n",
       "      <td>2018-04-14T02:11:47+00:00</td>\n",
       "      <td>2018-04-16T04:04:28+00:00</td>\n",
       "      <td>5</td>\n",
       "      <td>https://github.com/aws-samples/aws-microservic...</td>\n",
       "      <td>244</td>\n",
       "      <td>2018-04-16T04:03:48+00:00</td>\n",
       "      <td>...</td>\n",
       "      <td>0</td>\n",
       "      <td>49.866944</td>\n",
       "      <td>NaN</td>\n",
       "      <td>True</td>\n",
       "      <td>False</td>\n",
       "      <td>normal</td>\n",
       "      <td>security</td>\n",
       "      <td>[{\"filename\": \"apps/ecs/deployment/webapp.yaml...</td>\n",
       "      <td>apps</td>\n",
       "      <td>False</td>\n",
       "    </tr>\n",
       "    <tr>\n",
       "      <th>4</th>\n",
       "      <td>GoogleCloudPlatform/microservices-demo</td>\n",
       "      <td>2688</td>\n",
       "      <td>pods crash on aarch64</td>\n",
       "      <td>### Describe the bug  &lt;!-- A clear and concise...</td>\n",
       "      <td>2024-08-22T02:54:08+00:00</td>\n",
       "      <td>2024-08-22T19:01:52+00:00</td>\n",
       "      <td>3</td>\n",
       "      <td>https://github.com/GoogleCloudPlatform/microse...</td>\n",
       "      <td>2584</td>\n",
       "      <td>2024-06-10T11:33:19+00:00</td>\n",
       "      <td>...</td>\n",
       "      <td>0</td>\n",
       "      <td>-1743.346944</td>\n",
       "      <td>type: bug;priority: p3</td>\n",
       "      <td>True</td>\n",
       "      <td>False</td>\n",
       "      <td>critical</td>\n",
       "      <td>ui</td>\n",
       "      <td>[{\"filename\": \"src/adservice/build.gradle\", \"l...</td>\n",
       "      <td>src;src;src</td>\n",
       "      <td>False</td>\n",
       "    </tr>\n",
       "    <tr>\n",
       "      <th>5</th>\n",
       "      <td>GoogleCloudPlatform/microservices-demo</td>\n",
       "      <td>2677</td>\n",
       "      <td>GKE v1.29.7-gke.1174000: rpc error: code = Una...</td>\n",
       "      <td>### Describe the bug  On GKE version `v1.29.7-...</td>\n",
       "      <td>2024-08-13T19:53:42+00:00</td>\n",
       "      <td>2024-08-14T21:36:31+00:00</td>\n",
       "      <td>2</td>\n",
       "      <td>https://github.com/GoogleCloudPlatform/microse...</td>\n",
       "      <td>2429</td>\n",
       "      <td>2024-03-18T01:50:38+00:00</td>\n",
       "      <td>...</td>\n",
       "      <td>0</td>\n",
       "      <td>-3570.051111</td>\n",
       "      <td>NaN</td>\n",
       "      <td>True</td>\n",
       "      <td>False</td>\n",
       "      <td>critical</td>\n",
       "      <td>configuration</td>\n",
       "      <td>[{\"filename\": \"src/currencyservice/package-loc...</td>\n",
       "      <td>src;src;src;src</td>\n",
       "      <td>False</td>\n",
       "    </tr>\n",
       "    <tr>\n",
       "      <th>6</th>\n",
       "      <td>aws-samples/aws-microservices-deploy-options</td>\n",
       "      <td>146</td>\n",
       "      <td>Lambda functions are failing on AWS</td>\n",
       "      <td>Invoking the Lambda function on AWS is giving ...</td>\n",
       "      <td>2018-03-30T21:14:38+00:00</td>\n",
       "      <td>2018-03-31T00:10:05+00:00</td>\n",
       "      <td>1</td>\n",
       "      <td>https://github.com/aws-samples/aws-microservic...</td>\n",
       "      <td>152</td>\n",
       "      <td>2018-03-31T00:10:05+00:00</td>\n",
       "      <td>...</td>\n",
       "      <td>0</td>\n",
       "      <td>2.924167</td>\n",
       "      <td>lambda</td>\n",
       "      <td>True</td>\n",
       "      <td>False</td>\n",
       "      <td>normal</td>\n",
       "      <td>database</td>\n",
       "      <td>[{\"filename\": \"services/greeting/pom.xml\", \"li...</td>\n",
       "      <td>services;services;services;services</td>\n",
       "      <td>False</td>\n",
       "    </tr>\n",
       "    <tr>\n",
       "      <th>7</th>\n",
       "      <td>spring-petclinic/spring-petclinic-microservices</td>\n",
       "      <td>246</td>\n",
       "      <td>Docker build with the --load option</td>\n",
       "      <td>Fix Docker build by adding the --load options ...</td>\n",
       "      <td>2023-12-22T18:57:50+00:00</td>\n",
       "      <td>2023-12-23T14:50:01+00:00</td>\n",
       "      <td>0</td>\n",
       "      <td>https://github.com/spring-petclinic/spring-pet...</td>\n",
       "      <td>246</td>\n",
       "      <td>2023-12-23T14:50:01+00:00</td>\n",
       "      <td>...</td>\n",
       "      <td>0</td>\n",
       "      <td>19.869722</td>\n",
       "      <td>bug</td>\n",
       "      <td>True</td>\n",
       "      <td>False</td>\n",
       "      <td>normal</td>\n",
       "      <td>ui</td>\n",
       "      <td>[{\"filename\": \"pom.xml\", \"lines_added\": 1, \"li...</td>\n",
       "      <td>NaN</td>\n",
       "      <td>False</td>\n",
       "    </tr>\n",
       "    <tr>\n",
       "      <th>8</th>\n",
       "      <td>spring-petclinic/spring-petclinic-microservices</td>\n",
       "      <td>242</td>\n",
       "      <td>Support for Docker and Podman build on mac sil...</td>\n",
       "      <td>This makes it possible to run the container bu...</td>\n",
       "      <td>2023-12-08T11:12:00+00:00</td>\n",
       "      <td>2023-12-21T07:54:56+00:00</td>\n",
       "      <td>4</td>\n",
       "      <td>https://github.com/spring-petclinic/spring-pet...</td>\n",
       "      <td>242</td>\n",
       "      <td>2023-12-21T07:54:56+00:00</td>\n",
       "      <td>...</td>\n",
       "      <td>117</td>\n",
       "      <td>308.715556</td>\n",
       "      <td>bug</td>\n",
       "      <td>True</td>\n",
       "      <td>True</td>\n",
       "      <td>normal</td>\n",
       "      <td>ui</td>\n",
       "      <td>[{\"filename\": \".mvn/wrapper/MavenWrapperDownlo...</td>\n",
       "      <td>.mvn;.mvn;.mvn;spring-petclinic-admin-server;s...</td>\n",
       "      <td>True</td>\n",
       "    </tr>\n",
       "    <tr>\n",
       "      <th>9</th>\n",
       "      <td>aws-samples/aws-microservices-deploy-options</td>\n",
       "      <td>53</td>\n",
       "      <td>ECS cluster creation failed using CloudFormati...</td>\n",
       "      <td>Creating an ECS cluster using CloudFormation g...</td>\n",
       "      <td>2018-03-08T21:06:14+00:00</td>\n",
       "      <td>2018-03-09T18:31:18+00:00</td>\n",
       "      <td>4</td>\n",
       "      <td>https://github.com/aws-samples/aws-microservic...</td>\n",
       "      <td>61</td>\n",
       "      <td>2018-03-09T18:06:57+00:00</td>\n",
       "      <td>...</td>\n",
       "      <td>0</td>\n",
       "      <td>21.011944</td>\n",
       "      <td>NaN</td>\n",
       "      <td>True</td>\n",
       "      <td>False</td>\n",
       "      <td>normal</td>\n",
       "      <td>configuration</td>\n",
       "      <td>[{\"filename\": \"apps/ecs/ec2/templates/master.y...</td>\n",
       "      <td>apps;apps</td>\n",
       "      <td>False</td>\n",
       "    </tr>\n",
       "  </tbody>\n",
       "</table>\n",
       "<p>10 rows × 28 columns</p>\n",
       "</div>"
      ]
     },
     "execution_count": 4,
     "metadata": {},
     "output_type": "execute_result"
    }
   ],
   "execution_count": 4
  },
  {
   "metadata": {
    "ExecuteTime": {
     "end_time": "2025-03-25T15:26:55.269109Z",
     "start_time": "2025-03-25T15:26:55.267123Z"
    }
   },
   "cell_type": "code",
   "source": [
    "# we train a model based on bert embedding of issue title and issue bogy to predict 2 things, if this issue will contain config file change, and if this issue will contain code file change\n",
    "\n",
    "# we will use the following columns as features\n",
    "# 'issue_title', 'issue_body'\n",
    "# we will use the following columns as labels\n",
    "# 'has_config_changes', 'has_code_changes'\n",
    "feature_columns = ['issue_title', 'issue_body']\n",
    "label_columns = ['has_config_changes', 'has_code_changes']\n"
   ],
   "id": "45ebf348ba2b674b",
   "outputs": [],
   "execution_count": 5
  },
  {
   "metadata": {
    "ExecuteTime": {
     "end_time": "2025-03-25T15:26:55.372192Z",
     "start_time": "2025-03-25T15:26:55.367785Z"
    }
   },
   "cell_type": "code",
   "source": [
    "feature_pd = data[feature_columns]\n",
    "label_pd = data[label_columns]"
   ],
   "id": "76fce1c823490d01",
   "outputs": [],
   "execution_count": 6
  },
  {
   "metadata": {
    "ExecuteTime": {
     "end_time": "2025-03-25T15:26:55.526228Z",
     "start_time": "2025-03-25T15:26:55.522678Z"
    }
   },
   "cell_type": "code",
   "source": [
    "# check if there are any null values in the feature columns\n",
    "feature_pd.isnull().sum()"
   ],
   "id": "a046e0581628f279",
   "outputs": [
    {
     "data": {
      "text/plain": [
       "issue_title     0\n",
       "issue_body     62\n",
       "dtype: int64"
      ]
     },
     "execution_count": 7,
     "metadata": {},
     "output_type": "execute_result"
    }
   ],
   "execution_count": 7
  },
  {
   "metadata": {
    "ExecuteTime": {
     "end_time": "2025-03-25T15:26:55.561402Z",
     "start_time": "2025-03-25T15:26:55.558888Z"
    }
   },
   "cell_type": "code",
   "source": [
    "# check if there are any null values in the label columns\n",
    "label_pd.isnull().sum()"
   ],
   "id": "27211a227d16b84f",
   "outputs": [
    {
     "data": {
      "text/plain": [
       "has_config_changes    0\n",
       "has_code_changes      0\n",
       "dtype: int64"
      ]
     },
     "execution_count": 8,
     "metadata": {},
     "output_type": "execute_result"
    }
   ],
   "execution_count": 8
  },
  {
   "metadata": {
    "ExecuteTime": {
     "end_time": "2025-03-25T15:26:56.533908Z",
     "start_time": "2025-03-25T15:26:55.694351Z"
    }
   },
   "cell_type": "code",
   "source": [
    "model_name = \"bert-base-uncased\"  # or any other BERT model you want to use\n",
    "# Initialize the tokenizer and model\n",
    "tokenizer = AutoTokenizer.from_pretrained(model_name)\n",
    "bert_model = AutoModelForMaskedLM.from_pretrained(model_name)\n",
    "\n",
    "device = torch.device(\"cuda\" if torch.cuda.is_available() else \"cpu\")\n",
    "bert_model.to(device)\n",
    "bert_model.eval()\n"
   ],
   "id": "5ee6feaac681a5d8",
   "outputs": [
    {
     "name": "stderr",
     "output_type": "stream",
     "text": [
      "Some weights of the model checkpoint at bert-base-uncased were not used when initializing BertForMaskedLM: ['bert.pooler.dense.bias', 'bert.pooler.dense.weight', 'cls.seq_relationship.bias', 'cls.seq_relationship.weight']\n",
      "- This IS expected if you are initializing BertForMaskedLM from the checkpoint of a model trained on another task or with another architecture (e.g. initializing a BertForSequenceClassification model from a BertForPreTraining model).\n",
      "- This IS NOT expected if you are initializing BertForMaskedLM from the checkpoint of a model that you expect to be exactly identical (initializing a BertForSequenceClassification model from a BertForSequenceClassification model).\n"
     ]
    },
    {
     "data": {
      "text/plain": [
       "BertForMaskedLM(\n",
       "  (bert): BertModel(\n",
       "    (embeddings): BertEmbeddings(\n",
       "      (word_embeddings): Embedding(30522, 768, padding_idx=0)\n",
       "      (position_embeddings): Embedding(512, 768)\n",
       "      (token_type_embeddings): Embedding(2, 768)\n",
       "      (LayerNorm): LayerNorm((768,), eps=1e-12, elementwise_affine=True)\n",
       "      (dropout): Dropout(p=0.1, inplace=False)\n",
       "    )\n",
       "    (encoder): BertEncoder(\n",
       "      (layer): ModuleList(\n",
       "        (0-11): 12 x BertLayer(\n",
       "          (attention): BertAttention(\n",
       "            (self): BertSdpaSelfAttention(\n",
       "              (query): Linear(in_features=768, out_features=768, bias=True)\n",
       "              (key): Linear(in_features=768, out_features=768, bias=True)\n",
       "              (value): Linear(in_features=768, out_features=768, bias=True)\n",
       "              (dropout): Dropout(p=0.1, inplace=False)\n",
       "            )\n",
       "            (output): BertSelfOutput(\n",
       "              (dense): Linear(in_features=768, out_features=768, bias=True)\n",
       "              (LayerNorm): LayerNorm((768,), eps=1e-12, elementwise_affine=True)\n",
       "              (dropout): Dropout(p=0.1, inplace=False)\n",
       "            )\n",
       "          )\n",
       "          (intermediate): BertIntermediate(\n",
       "            (dense): Linear(in_features=768, out_features=3072, bias=True)\n",
       "            (intermediate_act_fn): GELUActivation()\n",
       "          )\n",
       "          (output): BertOutput(\n",
       "            (dense): Linear(in_features=3072, out_features=768, bias=True)\n",
       "            (LayerNorm): LayerNorm((768,), eps=1e-12, elementwise_affine=True)\n",
       "            (dropout): Dropout(p=0.1, inplace=False)\n",
       "          )\n",
       "        )\n",
       "      )\n",
       "    )\n",
       "  )\n",
       "  (cls): BertOnlyMLMHead(\n",
       "    (predictions): BertLMPredictionHead(\n",
       "      (transform): BertPredictionHeadTransform(\n",
       "        (dense): Linear(in_features=768, out_features=768, bias=True)\n",
       "        (transform_act_fn): GELUActivation()\n",
       "        (LayerNorm): LayerNorm((768,), eps=1e-12, elementwise_affine=True)\n",
       "      )\n",
       "      (decoder): Linear(in_features=768, out_features=30522, bias=True)\n",
       "    )\n",
       "  )\n",
       ")"
      ]
     },
     "execution_count": 9,
     "metadata": {},
     "output_type": "execute_result"
    }
   ],
   "execution_count": 9
  },
  {
   "metadata": {
    "ExecuteTime": {
     "end_time": "2025-03-25T15:26:56.551944Z",
     "start_time": "2025-03-25T15:26:56.549660Z"
    }
   },
   "cell_type": "code",
   "source": [
    "def get_bert_embedding(text_list, tokenizer, model, max_length=128):\n",
    "    \"\"\"\n",
    "    For a list of text strings, return a numpy array of shape (N, hidden_dim),\n",
    "    where hidden_dim is typically 768 for base BERT models.\n",
    "    \"\"\"\n",
    "    embeddings = []\n",
    "\n",
    "    for text in text_list:\n",
    "        inputs = tokenizer(\n",
    "            text,\n",
    "            return_tensors='pt',\n",
    "            truncation=True,\n",
    "            padding='max_length',\n",
    "            max_length=max_length\n",
    "        )\n",
    "        for k, v in inputs.items():\n",
    "            inputs[k] = v.to(device)\n",
    "\n",
    "        with torch.no_grad():\n",
    "            outputs = model(**inputs)\n",
    "            # outputs[0] -> last hidden state, shape: (batch_size, seq_len, hidden_size)\n",
    "            # outputs[1] -> pooled output (if the model supports it)\n",
    "            # For BERTModel, outputs[1] is sometimes not returned by default.\n",
    "            # If that’s the case, we can manually pool by taking outputs[0][:, 0] (the CLS token).\n",
    "            # But \"answerdotai/ModernBERT-base\" might return the pooled output in outputs[1].\n",
    "            # Double-check if it does. If not, we do:\n",
    "            last_hidden_state = outputs[0]\n",
    "            cls_embedding = last_hidden_state[:, 0, :]  # [CLS] token is first\n",
    "            embeddings.append(cls_embedding.cpu().numpy().flatten())\n",
    "\n",
    "    return np.array(embeddings)"
   ],
   "id": "5df8499802c286",
   "outputs": [],
   "execution_count": 10
  },
  {
   "metadata": {
    "ExecuteTime": {
     "end_time": "2025-03-25T15:27:03.135415Z",
     "start_time": "2025-03-25T15:26:56.594633Z"
    }
   },
   "cell_type": "code",
   "source": [
    "\n",
    "combined_texts = (feature_pd['issue_title'] + \" \" + feature_pd['issue_body']).fillna(\"\")\n",
    "\n",
    "embeddings = get_bert_embedding(\n",
    "    text_list=combined_texts.tolist(),\n",
    "    tokenizer=tokenizer,\n",
    "    model=bert_model,\n",
    "    max_length=128\n",
    ")"
   ],
   "id": "6089c23efff86a3d",
   "outputs": [],
   "execution_count": 11
  },
  {
   "metadata": {
    "ExecuteTime": {
     "end_time": "2025-03-25T15:27:03.299245Z",
     "start_time": "2025-03-25T15:27:03.297495Z"
    }
   },
   "cell_type": "code",
   "source": "print(\"Embeddings shape:\", embeddings.shape)",
   "id": "3eeabc95336013a",
   "outputs": [
    {
     "name": "stdout",
     "output_type": "stream",
     "text": [
      "Embeddings shape: (1637, 30522)\n"
     ]
    }
   ],
   "execution_count": 12
  },
  {
   "metadata": {
    "ExecuteTime": {
     "end_time": "2025-03-25T15:27:03.343908Z",
     "start_time": "2025-03-25T15:27:03.340813Z"
    }
   },
   "cell_type": "code",
   "source": [
    "print(label_pd['has_config_changes'].value_counts())\n",
    "print(label_pd['has_code_changes'].value_counts())\n"
   ],
   "id": "f992f4c79dbb45a9",
   "outputs": [
    {
     "name": "stdout",
     "output_type": "stream",
     "text": [
      "has_config_changes\n",
      "False    1132\n",
      "True      505\n",
      "Name: count, dtype: int64\n",
      "has_code_changes\n",
      "True     1339\n",
      "False     298\n",
      "Name: count, dtype: int64\n"
     ]
    }
   ],
   "execution_count": 13
  },
  {
   "metadata": {
    "ExecuteTime": {
     "end_time": "2025-03-25T15:27:03.390083Z",
     "start_time": "2025-03-25T15:27:03.386148Z"
    }
   },
   "cell_type": "code",
   "source": [
    "from sklearn.utils import resample\n",
    "\n",
    "def oversample_minority(X, y, random_state=42):\n",
    "    \"\"\"\n",
    "    Oversample the minority class in (X, y) to match the majority class size.\n",
    "    Returns the oversampled X and y as NumPy arrays.\n",
    "    \"\"\"\n",
    "    X = np.array(X)\n",
    "    y = np.array(y)\n",
    "\n",
    "    # Split majority and minority classes\n",
    "    majority_class = (y == 0)\n",
    "    minority_class = (y == 1)\n",
    "\n",
    "    X_majority = X[majority_class]\n",
    "    y_majority = y[majority_class]\n",
    "\n",
    "    X_minority = X[minority_class]\n",
    "    y_minority = y[minority_class]\n",
    "\n",
    "    # If there's no imbalance, just return original\n",
    "    if len(X_minority) == 0 or len(X_majority) == 0:\n",
    "        print(\"No real imbalance detected or no minority samples found.\")\n",
    "        return X, y\n",
    "\n",
    "    # Oversample minority to match the majority size\n",
    "    X_minority_upsampled, y_minority_upsampled = resample(\n",
    "        X_minority,\n",
    "        y_minority,\n",
    "        replace=True,\n",
    "        n_samples=len(X_majority),\n",
    "        random_state=random_state\n",
    "    )\n",
    "\n",
    "    # Combine majority and upsampled minority\n",
    "    X_oversampled = np.vstack((X_majority, X_minority_upsampled))\n",
    "    y_oversampled = np.concatenate((y_majority, y_minority_upsampled))\n",
    "\n",
    "    return X_oversampled, y_oversampled\n"
   ],
   "id": "ae0063d047d4b31d",
   "outputs": [],
   "execution_count": 14
  },
  {
   "metadata": {
    "ExecuteTime": {
     "end_time": "2025-03-25T15:27:03.656189Z",
     "start_time": "2025-03-25T15:27:03.441227Z"
    }
   },
   "cell_type": "code",
   "source": [
    "# After you do your train_test_split:\n",
    "X_train, X_test, y_train, y_test = train_test_split(\n",
    "    embeddings,\n",
    "    label_pd,\n",
    "    test_size=0.2,\n",
    "    random_state=42\n",
    ")\n",
    "\n",
    "y_train_config = y_train['has_config_changes'].values\n",
    "y_test_config = y_test['has_config_changes'].values\n",
    "\n",
    "y_train_code = y_train['has_code_changes'].values\n",
    "y_test_code = y_test['has_code_changes'].values\n",
    "\n",
    "# -----------------------------\n",
    "# Oversample for has_config_changes\n",
    "# -----------------------------\n",
    "X_train_config_os, y_train_config_os = oversample_minority(\n",
    "    X_train,\n",
    "    y_train_config\n",
    ")\n",
    "\n",
    "# -----------------------------\n",
    "# Oversample for has_code_changes\n",
    "# -----------------------------\n",
    "X_train_code_os, y_train_code_os = oversample_minority(\n",
    "    X_train,\n",
    "    y_train_code\n",
    ")\n"
   ],
   "id": "4c02774d0287846b",
   "outputs": [],
   "execution_count": 15
  },
  {
   "metadata": {
    "ExecuteTime": {
     "end_time": "2025-03-25T15:27:03.688404Z",
     "start_time": "2025-03-25T15:27:03.686189Z"
    }
   },
   "cell_type": "code",
   "source": [
    "\n",
    "\n",
    "class SimpleNN(nn.Module):\n",
    "    def __init__(self, input_dim, hidden_dim=128):\n",
    "        super(SimpleNN, self).__init__()\n",
    "        self.fc1 = nn.Linear(input_dim, hidden_dim)\n",
    "        self.relu = nn.ReLU()\n",
    "        self.fc2 = nn.Linear(hidden_dim, 1)\n",
    "\n",
    "    def forward(self, x):\n",
    "        x = self.fc1(x)\n",
    "        x = self.relu(x)\n",
    "        x = self.fc2(x)\n",
    "        return x"
   ],
   "id": "c70a018f301e1a5f",
   "outputs": [],
   "execution_count": 16
  },
  {
   "metadata": {
    "ExecuteTime": {
     "end_time": "2025-03-25T15:27:03.717808Z",
     "start_time": "2025-03-25T15:27:03.715063Z"
    }
   },
   "cell_type": "code",
   "source": [
    "def plot_confusion_matrix(cm, title='Confusion Matrix'):\n",
    "    \"\"\"\n",
    "    Plot a confusion matrix using seaborn's heatmap.\n",
    "    \"\"\"\n",
    "    plt.figure()\n",
    "    sns.heatmap(cm, annot=True, fmt='d', cbar=False)\n",
    "    plt.title(title)\n",
    "    plt.xlabel('Predicted')\n",
    "    plt.ylabel('Actual')\n",
    "    plt.show()"
   ],
   "id": "2a0ff4924a4181bb",
   "outputs": [],
   "execution_count": 17
  },
  {
   "metadata": {
    "ExecuteTime": {
     "end_time": "2025-03-25T15:27:03.764959Z",
     "start_time": "2025-03-25T15:27:03.762223Z"
    }
   },
   "cell_type": "code",
   "source": [
    "def train_model(model, X_train, y_train, X_test, y_test, epochs=5, lr=1e-3):\n",
    "    criterion = nn.BCEWithLogitsLoss()\n",
    "    optimizer = optim.Adam(model.parameters(), lr=lr)\n",
    "\n",
    "    X_train_tensor = torch.tensor(X_train, dtype=torch.float).to(device)\n",
    "    y_train_tensor = torch.tensor(y_train, dtype=torch.float).to(device)\n",
    "\n",
    "    for epoch in range(epochs):\n",
    "        model.train()\n",
    "        optimizer.zero_grad()\n",
    "\n",
    "        outputs = model(X_train_tensor).squeeze()  # raw logits\n",
    "        loss = criterion(outputs, y_train_tensor)\n",
    "        loss.backward()\n",
    "        optimizer.step()\n",
    "\n",
    "        test_acc, _ = evaluate_model(model, X_test, y_test)\n",
    "        # print(\n",
    "        #     f\"Epoch [{epoch + 1}/{epochs}], \"\n",
    "        #     f\"Loss: {loss.item():.4f}, \"\n",
    "        #     f\"Test Accuracy: {test_acc:.4f}\"\n",
    "        # )\n"
   ],
   "id": "600514cf0f1e1f0a",
   "outputs": [],
   "execution_count": 18
  },
  {
   "metadata": {
    "ExecuteTime": {
     "end_time": "2025-03-25T15:27:03.811268Z",
     "start_time": "2025-03-25T15:27:03.808844Z"
    }
   },
   "cell_type": "code",
   "source": [
    "def evaluate_model(model, X_test, y_test):\n",
    "    model.eval()\n",
    "    X_tensor = torch.tensor(X_test, dtype=torch.float).to(device)\n",
    "    with torch.no_grad():\n",
    "        outputs = model(X_tensor).squeeze()  # (batch_size,) raw logits\n",
    "        preds = torch.sigmoid(outputs)\n",
    "        preds = (preds > 0.5).long().cpu().numpy()\n",
    "    accuracy = accuracy_score(y_test, preds)\n",
    "    cm = confusion_matrix(y_test, preds)\n",
    "    return accuracy, cm"
   ],
   "id": "dd7b16be7e353ad5",
   "outputs": [],
   "execution_count": 19
  },
  {
   "metadata": {
    "ExecuteTime": {
     "end_time": "2025-03-25T15:27:06.644901Z",
     "start_time": "2025-03-25T15:27:03.857596Z"
    }
   },
   "cell_type": "code",
   "source": [
    "# use logistic regression to predict if the issue will contain config file change\n",
    "# increase the epochs to 10\n",
    "from sklearn.linear_model import LogisticRegression\n",
    "config_lr = LogisticRegression(max_iter=100)\n",
    "config_lr.fit(X_train_config_os, y_train_config_os)\n",
    "config_lr_acc = config_lr.score(X_test, y_test_config)\n",
    "print(\"Logistic Regression Accuracy (has_config_changes):\", config_lr_acc)"
   ],
   "id": "45bbae7192617bed",
   "outputs": [
    {
     "name": "stdout",
     "output_type": "stream",
     "text": [
      "Logistic Regression Accuracy (has_config_changes): 0.676829268292683\n"
     ]
    },
    {
     "name": "stderr",
     "output_type": "stream",
     "text": [
      "/home/drixs2050/anaconda3/envs/microservice-analysis/lib/python3.9/site-packages/sklearn/linear_model/_logistic.py:465: ConvergenceWarning: lbfgs failed to converge (status=1):\n",
      "STOP: TOTAL NO. of ITERATIONS REACHED LIMIT.\n",
      "\n",
      "Increase the number of iterations (max_iter) or scale the data as shown in:\n",
      "    https://scikit-learn.org/stable/modules/preprocessing.html\n",
      "Please also refer to the documentation for alternative solver options:\n",
      "    https://scikit-learn.org/stable/modules/linear_model.html#logistic-regression\n",
      "  n_iter_i = _check_optimize_result(\n"
     ]
    }
   ],
   "execution_count": 20
  },
  {
   "metadata": {
    "ExecuteTime": {
     "end_time": "2025-03-25T15:27:39.944841Z",
     "start_time": "2025-03-25T15:27:39.761811Z"
    }
   },
   "cell_type": "code",
   "source": [
    "# 1) Model for `has_config_changes`\n",
    "input_dim = X_train.shape[1]\n",
    "config_model = SimpleNN(input_dim=input_dim, hidden_dim=128).to(device)\n",
    "\n",
    "print(\"Training model for `has_config_changes` (oversampled)...\")\n",
    "train_model(\n",
    "    config_model,\n",
    "    X_train_config_os,   # oversampled X\n",
    "    y_train_config_os,   # oversampled y\n",
    "    X_test,\n",
    "    y_test_config,\n",
    "    epochs=10,\n",
    "    lr=1e-5\n",
    ")\n",
    "acc_config, cm_config = evaluate_model(config_model, X_test, y_test_config)\n",
    "print(\"Final Test Accuracy (has_config_changes):\", acc_config)\n",
    "\n"
   ],
   "id": "c9845b1f2c3e4609",
   "outputs": [
    {
     "name": "stdout",
     "output_type": "stream",
     "text": [
      "Training model for `has_config_changes` (oversampled)...\n",
      "Final Test Accuracy (has_config_changes): 0.7195121951219512\n"
     ]
    }
   ],
   "execution_count": 27
  },
  {
   "metadata": {
    "ExecuteTime": {
     "end_time": "2025-03-25T15:27:55.665073Z",
     "start_time": "2025-03-25T15:27:55.568703Z"
    }
   },
   "cell_type": "code",
   "source": [
    "# 2) Model for `has_code_changes`\n",
    "code_model = SimpleNN(input_dim=input_dim, hidden_dim=128).to(device)\n",
    "\n",
    "print(\"\\nTraining model for `has_code_changes` (oversampled)...\")\n",
    "train_model(\n",
    "    code_model,\n",
    "    X_train_code_os,   # oversampled X\n",
    "    y_train_code_os,   # oversampled y\n",
    "    X_test,\n",
    "    y_test_code,\n",
    "    epochs=5,\n",
    "    lr=1e-5\n",
    ")\n",
    "acc_code, cm_code = evaluate_model(code_model, X_test, y_test_code)\n",
    "print(\"Final Test Accuracy (has_code_changes):\", acc_code)\n"
   ],
   "id": "82d77a4e28c1d1e1",
   "outputs": [
    {
     "name": "stdout",
     "output_type": "stream",
     "text": [
      "\n",
      "Training model for `has_code_changes` (oversampled)...\n",
      "Final Test Accuracy (has_code_changes): 0.8170731707317073\n"
     ]
    }
   ],
   "execution_count": 30
  }
 ],
 "metadata": {
  "kernelspec": {
   "display_name": "Python 3",
   "language": "python",
   "name": "python3"
  },
  "language_info": {
   "codemirror_mode": {
    "name": "ipython",
    "version": 2
   },
   "file_extension": ".py",
   "mimetype": "text/x-python",
   "name": "python",
   "nbconvert_exporter": "python",
   "pygments_lexer": "ipython2",
   "version": "2.7.6"
  }
 },
 "nbformat": 4,
 "nbformat_minor": 5
}
